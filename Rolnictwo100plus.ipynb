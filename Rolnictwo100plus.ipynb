{
 "cells": [
  {
   "cell_type": "code",
   "execution_count": 6,
   "id": "6d6daf53-e4d9-4ea2-870a-8add682cf6b9",
   "metadata": {
    "tags": []
   },
   "outputs": [
    {
     "name": "stdout",
     "output_type": "stream",
     "text": [
      "Requirement already satisfied: pandas in /usr/local/lib/python3.10/site-packages (1.5.3)\n",
      "Collecting openpyxl\n",
      "  Downloading openpyxl-3.1.1-py2.py3-none-any.whl (249 kB)\n",
      "\u001b[2K     \u001b[38;2;114;156;31m━━━━━━━━━━━━━━━━━━━━━━━━━━━━━━━━━━━━━━━\u001b[0m \u001b[32m249.8/249.8 kB\u001b[0m \u001b[31m2.8 MB/s\u001b[0m eta \u001b[36m0:00:00\u001b[0m[36m0:00:01\u001b[0mm eta \u001b[36m0:00:01\u001b[0m\n",
      "\u001b[?25hRequirement already satisfied: python-dateutil>=2.8.1 in /usr/local/lib/python3.10/site-packages (from pandas) (2.8.2)\n",
      "Requirement already satisfied: numpy>=1.21.0 in /usr/local/lib/python3.10/site-packages (from pandas) (1.24.2)\n",
      "Requirement already satisfied: pytz>=2020.1 in /usr/local/lib/python3.10/site-packages (from pandas) (2022.7.1)\n",
      "Collecting et-xmlfile\n",
      "  Downloading et_xmlfile-1.1.0-py3-none-any.whl (4.7 kB)\n",
      "Requirement already satisfied: six>=1.5 in /usr/local/lib/python3.10/site-packages (from python-dateutil>=2.8.1->pandas) (1.16.0)\n",
      "Installing collected packages: et-xmlfile, openpyxl\n",
      "Successfully installed et-xmlfile-1.1.0 openpyxl-3.1.1\n",
      "\n",
      "\u001b[1m[\u001b[0m\u001b[34;49mnotice\u001b[0m\u001b[1;39;49m]\u001b[0m\u001b[39;49m A new release of pip available: \u001b[0m\u001b[31;49m22.3.1\u001b[0m\u001b[39;49m -> \u001b[0m\u001b[32;49m23.0\u001b[0m\n",
      "\u001b[1m[\u001b[0m\u001b[34;49mnotice\u001b[0m\u001b[1;39;49m]\u001b[0m\u001b[39;49m To update, run: \u001b[0m\u001b[32;49mpython3.10 -m pip install --upgrade pip\u001b[0m\n",
      "Note: you may need to restart the kernel to use updated packages.\n"
     ]
    }
   ],
   "source": [
    "pip install pandas openpyxl"
   ]
  },
  {
   "cell_type": "code",
   "execution_count": 4,
   "id": "32daba40-8e09-49c0-ba54-61173b05415d",
   "metadata": {
    "tags": []
   },
   "outputs": [],
   "source": [
    "import pandas as pd"
   ]
  },
  {
   "cell_type": "code",
   "execution_count": 120,
   "id": "a9af4799-286c-4cb1-9e8e-5643b3bb82dc",
   "metadata": {
    "tags": []
   },
   "outputs": [],
   "source": [
    "wykaz = pd.read_excel(\"./Wykaz_dyscyplin_do_czasopism_i_materiałów_konferencyjnych.xlsx\", header=[0, 1],index_col=0)"
   ]
  },
  {
   "cell_type": "code",
   "execution_count": 131,
   "id": "a3f1bb8e-2e81-41d8-b1f4-fe1bcf16fff4",
   "metadata": {
    "tags": []
   },
   "outputs": [],
   "source": [
    "kol_punkty = wykaz.loc[:,(slice(None),'Punkty')].columns\n",
    "kol_tytul2 = wykaz.loc[:,(slice(None),'Tytuł 2')].columns[0]\n",
    "kol_issn = wykaz.loc[:,(slice(None),'issn')].columns[0]\n",
    "warunek_rio = (wykaz['rolnictwo i ogrodnictwo'] == 'x').iloc[:,0]\n",
    "warunek_tziz = (wykaz['technologia żywności i żywienia'] == 'x').iloc[:,0]\n",
    "warunek_punkty = (wykaz[kol_punkty] >= 100).iloc[:,0]"
   ]
  },
  {
   "cell_type": "code",
   "execution_count": 123,
   "id": "ef192b36-d1e0-4744-bf14-3197931a192a",
   "metadata": {
    "tags": []
   },
   "outputs": [],
   "source": [
    "rolnictwo_100_plus=wykaz.loc[wybor].sort_values(by=kol_punkty[0],ascending=False)"
   ]
  },
  {
   "cell_type": "code",
   "execution_count": 134,
   "id": "e60fd311-e0a1-4a76-9fcb-05a28207bc2c",
   "metadata": {
    "tags": []
   },
   "outputs": [
    {
     "data": {
      "text/html": [
       "<div>\n",
       "<style scoped>\n",
       "    .dataframe tbody tr th:only-of-type {\n",
       "        vertical-align: middle;\n",
       "    }\n",
       "\n",
       "    .dataframe tbody tr th {\n",
       "        vertical-align: top;\n",
       "    }\n",
       "\n",
       "    .dataframe thead tr th {\n",
       "        text-align: left;\n",
       "    }\n",
       "</style>\n",
       "<table border=\"1\" class=\"dataframe\">\n",
       "  <thead>\n",
       "    <tr>\n",
       "      <th></th>\n",
       "      <th>Unnamed: 5_level_0</th>\n",
       "      <th>Unnamed: 3_level_0</th>\n",
       "    </tr>\n",
       "    <tr>\n",
       "      <th>Lp.</th>\n",
       "      <th>Tytuł 2</th>\n",
       "      <th>issn</th>\n",
       "    </tr>\n",
       "  </thead>\n",
       "  <tbody>\n",
       "    <tr>\n",
       "      <th>2552</th>\n",
       "      <td>Biotechnology Advances</td>\n",
       "      <td>0734-9750</td>\n",
       "    </tr>\n",
       "    <tr>\n",
       "      <th>6546</th>\n",
       "      <td>FEMS Microbiology Reviews</td>\n",
       "      <td>0168-6445</td>\n",
       "    </tr>\n",
       "    <tr>\n",
       "      <th>3490</th>\n",
       "      <td>Chemical Society Reviews</td>\n",
       "      <td>0306-0012</td>\n",
       "    </tr>\n",
       "    <tr>\n",
       "      <th>7013</th>\n",
       "      <td>Genes and Development</td>\n",
       "      <td>0890-9369</td>\n",
       "    </tr>\n",
       "    <tr>\n",
       "      <th>2474</th>\n",
       "      <td>Biomaterials</td>\n",
       "      <td>0142-9612</td>\n",
       "    </tr>\n",
       "    <tr>\n",
       "      <th>...</th>\n",
       "      <td>...</td>\n",
       "      <td>...</td>\n",
       "    </tr>\n",
       "    <tr>\n",
       "      <th>3518</th>\n",
       "      <td>ChemMedChem</td>\n",
       "      <td>1860-7179</td>\n",
       "    </tr>\n",
       "    <tr>\n",
       "      <th>11135</th>\n",
       "      <td>Journal of Food Composition and Analysis</td>\n",
       "      <td>0889-1575</td>\n",
       "    </tr>\n",
       "    <tr>\n",
       "      <th>11138</th>\n",
       "      <td>Journal of Food Process Engineering</td>\n",
       "      <td>0145-8876</td>\n",
       "    </tr>\n",
       "    <tr>\n",
       "      <th>11174</th>\n",
       "      <td>Journal of Functional Foods</td>\n",
       "      <td>1756-4646</td>\n",
       "    </tr>\n",
       "    <tr>\n",
       "      <th>8913</th>\n",
       "      <td>International Journal of Food Microbiology</td>\n",
       "      <td>0168-1605</td>\n",
       "    </tr>\n",
       "  </tbody>\n",
       "</table>\n",
       "<p>320 rows × 2 columns</p>\n",
       "</div>"
      ],
      "text/plain": [
       "                               Unnamed: 5_level_0 Unnamed: 3_level_0\n",
       "Lp.                                       Tytuł 2               issn\n",
       "2552                       Biotechnology Advances          0734-9750\n",
       "6546                    FEMS Microbiology Reviews          0168-6445\n",
       "3490                     Chemical Society Reviews          0306-0012\n",
       "7013                        Genes and Development          0890-9369\n",
       "2474                                 Biomaterials          0142-9612\n",
       "...                                           ...                ...\n",
       "3518                                  ChemMedChem          1860-7179\n",
       "11135    Journal of Food Composition and Analysis          0889-1575\n",
       "11138         Journal of Food Process Engineering          0145-8876\n",
       "11174                 Journal of Functional Foods          1756-4646\n",
       "8913   International Journal of Food Microbiology          0168-1605\n",
       "\n",
       "[320 rows x 2 columns]"
      ]
     },
     "execution_count": 134,
     "metadata": {},
     "output_type": "execute_result"
    }
   ],
   "source": [
    "rolnictwo_100_plus[[kol_tytul2,kol_issn]]"
   ]
  }
 ],
 "metadata": {
  "kernelspec": {
   "display_name": "Python 3 (ipykernel)",
   "language": "python",
   "name": "python3"
  },
  "language_info": {
   "codemirror_mode": {
    "name": "ipython",
    "version": 3
   },
   "file_extension": ".py",
   "mimetype": "text/x-python",
   "name": "python",
   "nbconvert_exporter": "python",
   "pygments_lexer": "ipython3",
   "version": "3.10.9"
  }
 },
 "nbformat": 4,
 "nbformat_minor": 5
}
